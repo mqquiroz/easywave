{
  "nbformat": 4,
  "nbformat_minor": 0,
  "metadata": {
    "colab": {
      "provenance": [],
      "authorship_tag": "ABX9TyPVOgWcsZc7RK+KjVMtrCfz",
      "include_colab_link": true
    },
    "kernelspec": {
      "name": "python3",
      "display_name": "Python 3"
    },
    "language_info": {
      "name": "python"
    }
  },
  "cells": [
    {
      "cell_type": "markdown",
      "metadata": {
        "id": "view-in-github",
        "colab_type": "text"
      },
      "source": [
        "<a href=\"https://colab.research.google.com/github/mqquiroz/easywave/blob/main/Easywave_Model.ipynb\" target=\"_parent\"><img src=\"https://colab.research.google.com/assets/colab-badge.svg\" alt=\"Open In Colab\"/></a>"
      ]
    },
    {
      "cell_type": "code",
      "execution_count": 2,
      "metadata": {
        "colab": {
          "base_uri": "https://localhost:8080/"
        },
        "id": "j1aVCtYEejX7",
        "outputId": "93f7fa52-7f48-40f2-c649-8344998db86e"
      },
      "outputs": [
        {
          "output_type": "stream",
          "name": "stdout",
          "text": [
            "--2022-09-25 21:09:04--  https://git.gfz-potsdam.de/id2/geoperil/easyWave/-/raw/master/bin/r34/easywave_r34_src.tar.gz?inline=false\n",
            "Resolving git.gfz-potsdam.de (git.gfz-potsdam.de)... 139.17.228.166\n",
            "Connecting to git.gfz-potsdam.de (git.gfz-potsdam.de)|139.17.228.166|:443... connected.\n",
            "HTTP request sent, awaiting response... 200 OK\n",
            "Length: 3995705 (3.8M) [application/x-gzip]\n",
            "Saving to: ‘easywave_r34_src.tar.gz?inline=false’\n",
            "\n",
            "easywave_r34_src.ta 100%[===================>]   3.81M  3.58MB/s    in 1.1s    \n",
            "\n",
            "2022-09-25 21:09:06 (3.58 MB/s) - ‘easywave_r34_src.tar.gz?inline=false’ saved [3995705/3995705]\n",
            "\n",
            "/content/easywave\n",
            "checking for a BSD-compatible install... /usr/bin/install -c\n",
            "checking whether build environment is sane... yes\n",
            "checking for a thread-safe mkdir -p... /bin/mkdir -p\n",
            "checking for gawk... no\n",
            "checking for mawk... mawk\n",
            "checking whether make sets $(MAKE)... yes\n",
            "checking whether make supports nested variables... yes\n",
            "checking for g++... g++\n",
            "checking whether the C++ compiler works... yes\n",
            "checking for C++ compiler default output file name... a.out\n",
            "checking for suffix of executables... \n",
            "checking whether we are cross compiling... no\n",
            "checking for suffix of object files... o\n",
            "checking whether we are using the GNU C++ compiler... yes\n",
            "checking whether g++ accepts -g... yes\n",
            "checking for style of include used by make... GNU\n",
            "checking dependency style of g++... gcc3\n",
            "checking for gcc... gcc\n",
            "checking whether we are using the GNU C compiler... yes\n",
            "checking whether gcc accepts -g... yes\n",
            "checking for gcc option to accept ISO C89... none needed\n",
            "checking whether gcc understands -c and -o together... yes\n",
            "checking dependency style of gcc... gcc3\n",
            "checking how to run the C++ preprocessor... g++ -E\n",
            "checking for grep that handles long lines and -e... /bin/grep\n",
            "checking for egrep... /bin/grep -E\n",
            "checking for ANSI C header files... yes\n",
            "checking for sys/types.h... yes\n",
            "checking for sys/stat.h... yes\n",
            "checking for stdlib.h... yes\n",
            "checking for string.h... yes\n",
            "checking for memory.h... yes\n",
            "checking for strings.h... yes\n",
            "checking for inttypes.h... yes\n",
            "checking for stdint.h... yes\n",
            "checking for unistd.h... yes\n",
            "checking for stdlib.h... (cached) yes\n",
            "checking for stdbool.h that conforms to C99... no\n",
            "checking for _Bool... no\n",
            "checking for inline... inline\n",
            "checking for stdlib.h... (cached) yes\n",
            "checking for GNU libc compatible malloc... yes\n",
            "checking for floor... yes\n",
            "checking for pow... yes\n",
            "checking for sqrt... yes\n",
            "checking for memset... yes\n",
            "checking for strchr... yes\n",
            "checking for strdup... yes\n",
            "checking for strstr... yes\n",
            "checking for clock_gettime... yes\n",
            "configure: yes\n",
            "checking for nvcc... /usr/local/cuda/bin/nvcc\n",
            "checking for cudaLaunch in -lcudart... no\n",
            "checking for cuInit in -lcuda... yes\n",
            "configure: no\n",
            "configure: yes\n",
            "checking for g++ option to support OpenMP... -fopenmp\n",
            "checking that generated files are newer than configure... done\n",
            "configure: creating ./config.status\n",
            "config.status: creating Makefile\n",
            "config.status: creating src/Makefile\n",
            "config.status: creating config.h\n",
            "config.status: executing depfiles commands\n",
            "make  all-recursive\n",
            "make[1]: Entering directory '/content/easywave'\n",
            "Making all in src\n",
            "make[2]: Entering directory '/content/easywave/src'\n",
            "make  all-am\n",
            "make[3]: Entering directory '/content/easywave/src'\n",
            "g++ -DHAVE_CONFIG_H -I. -I..    -fopenmp -g -O2 -MT cOgrd.o -MD -MP -MF .deps/cOgrd.Tpo -c -o cOgrd.o cOgrd.cpp\n",
            "mv -f .deps/cOgrd.Tpo .deps/cOgrd.Po\n",
            "g++ -DHAVE_CONFIG_H -I. -I..    -fopenmp -g -O2 -MT cOkadaEarthquake.o -MD -MP -MF .deps/cOkadaEarthquake.Tpo -c -o cOkadaEarthquake.o cOkadaEarthquake.cpp\n",
            "mv -f .deps/cOkadaEarthquake.Tpo .deps/cOkadaEarthquake.Po\n",
            "g++ -DHAVE_CONFIG_H -I. -I..    -fopenmp -g -O2 -MT cOkadaFault.o -MD -MP -MF .deps/cOkadaFault.Tpo -c -o cOkadaFault.o cOkadaFault.cpp\n",
            "mv -f .deps/cOkadaFault.Tpo .deps/cOkadaFault.Po\n",
            "g++ -DHAVE_CONFIG_H -I. -I..    -fopenmp -g -O2 -MT cSphere.o -MD -MP -MF .deps/cSphere.Tpo -c -o cSphere.o cSphere.cpp\n",
            "mv -f .deps/cSphere.Tpo .deps/cSphere.Po\n",
            "g++ -DHAVE_CONFIG_H -I. -I..    -fopenmp -g -O2 -MT ewGrid.o -MD -MP -MF .deps/ewGrid.Tpo -c -o ewGrid.o ewGrid.cpp\n",
            "mv -f .deps/ewGrid.Tpo .deps/ewGrid.Po\n",
            "g++ -DHAVE_CONFIG_H -I. -I..    -fopenmp -g -O2 -MT ewOut2D.o -MD -MP -MF .deps/ewOut2D.Tpo -c -o ewOut2D.o ewOut2D.cpp\n",
            "mv -f .deps/ewOut2D.Tpo .deps/ewOut2D.Po\n",
            "g++ -DHAVE_CONFIG_H -I. -I..    -fopenmp -g -O2 -MT ewParam.o -MD -MP -MF .deps/ewParam.Tpo -c -o ewParam.o ewParam.cpp\n",
            "mv -f .deps/ewParam.Tpo .deps/ewParam.Po\n",
            "g++ -DHAVE_CONFIG_H -I. -I..    -fopenmp -g -O2 -MT ewPOIs.o -MD -MP -MF .deps/ewPOIs.Tpo -c -o ewPOIs.o ewPOIs.cpp\n",
            "mv -f .deps/ewPOIs.Tpo .deps/ewPOIs.Po\n",
            "g++ -DHAVE_CONFIG_H -I. -I..    -fopenmp -g -O2 -MT ewReset.o -MD -MP -MF .deps/ewReset.Tpo -c -o ewReset.o ewReset.cpp\n",
            "mv -f .deps/ewReset.Tpo .deps/ewReset.Po\n",
            "g++ -DHAVE_CONFIG_H -I. -I..    -fopenmp -g -O2 -MT ewSource.o -MD -MP -MF .deps/ewSource.Tpo -c -o ewSource.o ewSource.cpp\n",
            "mv -f .deps/ewSource.Tpo .deps/ewSource.Po\n",
            "g++ -DHAVE_CONFIG_H -I. -I..    -fopenmp -g -O2 -MT ewStep.o -MD -MP -MF .deps/ewStep.Tpo -c -o ewStep.o ewStep.cpp\n",
            "mv -f .deps/ewStep.Tpo .deps/ewStep.Po\n",
            "g++ -DHAVE_CONFIG_H -I. -I..    -fopenmp -g -O2 -MT okada.o -MD -MP -MF .deps/okada.Tpo -c -o okada.o okada.cpp\n",
            "mv -f .deps/okada.Tpo .deps/okada.Po\n",
            "g++ -DHAVE_CONFIG_H -I. -I..    -fopenmp -g -O2 -MT utilits.o -MD -MP -MF .deps/utilits.Tpo -c -o utilits.o utilits.cpp\n",
            "mv -f .deps/utilits.Tpo .deps/utilits.Po\n",
            "/usr/local/cuda/bin/nvcc -O2 -c -I. -x cu -o ewCudaKernels.o -c ewCudaKernels.cu\n",
            "/usr/local/cuda/bin/nvcc -O2 -c -I. -x cu -o ewGpuNode.o -c ewGpuNode.cu\n",
            "/usr/local/cuda/bin/nvcc -O2 -c -I. -x cu -o EasyWaveGen.o -c EasyWaveGen.cu\n",
            "/usr/local/cuda/bin/nvcc -O2 -Xcompiler \"-fopenmp\" -o easywave cOgrd.o cOkadaEarthquake.o cOkadaFault.o cSphere.o ewGrid.o ewOut2D.o ewParam.o ewPOIs.o ewReset.o ewSource.o ewStep.o okada.o utilits.o ewCudaKernels.o ewGpuNode.o EasyWaveGen.o   \n",
            "make[3]: Leaving directory '/content/easywave/src'\n",
            "make[2]: Leaving directory '/content/easywave/src'\n",
            "make[2]: Entering directory '/content/easywave'\n",
            "make[2]: Leaving directory '/content/easywave'\n",
            "make[1]: Leaving directory '/content/easywave'\n",
            "Making install in src\n",
            "make[1]: Entering directory '/content/easywave/src'\n",
            "make  install-am\n",
            "make[2]: Entering directory '/content/easywave/src'\n",
            "make[3]: Entering directory '/content/easywave/src'\n",
            " /bin/mkdir -p '/usr/local/easywave/bin'\n",
            "  /usr/bin/install -c easywave '/usr/local/easywave/bin'\n",
            "make[3]: Nothing to be done for 'install-data-am'.\n",
            "make[3]: Leaving directory '/content/easywave/src'\n",
            "make[2]: Leaving directory '/content/easywave/src'\n",
            "make[1]: Leaving directory '/content/easywave/src'\n",
            "make[1]: Entering directory '/content/easywave'\n",
            "make[2]: Entering directory '/content/easywave'\n",
            "mkdir /usr/local/easywave/tools\n",
            "cp -f tools/*.sh /usr/local/easywave/bin\n",
            "cp -f tools/* /usr/local/easywave/tools\n",
            "rm -f /usr/local/easywave/tools/*.sh\n",
            "make[2]: Nothing to be done for 'install-data-am'.\n",
            "make[2]: Leaving directory '/content/easywave'\n",
            "make[1]: Leaving directory '/content/easywave'\n",
            "/usr/local/easywave/bin\n",
            "/content\n"
          ]
        }
      ],
      "source": [
        "!wget https://git.gfz-potsdam.de/id2/geoperil/easyWave/-/raw/master/bin/r34/easywave_r34_src.tar.gz?inline=false\n",
        "!tar -xzf easywave_r34_src.tar.gz?inline=false\n",
        "!rm easywave_r34_src.tar.gz\\?inline\\=false\n",
        "%cd easywave/\n",
        "!./configure\n",
        "!make\n",
        "!make install\n",
        "%cd /usr/local/easywave/bin/\n",
        "!chmod +x easywave\n",
        "import os\n",
        "cwd = os.getcwd()\n",
        "os.environ['PATH'] += \":\"+cwd\n",
        "%cd /content/\n",
        "!rm -r easywave\n",
        "#!git clone https://git.gfz-potsdam.de/id2/geoperil/easyWave.git\n",
        "#%cd easyWave/bin/r34/\n",
        "#!tar -xzf easywave_r34_src.tar.gz\n",
        "#%cd easywave/\n",
        "#!./configure\n",
        "#!make\n",
        "#!make install\n",
        "#%cd /usr/local/easywave/bin/\n",
        "#!chmod +x easywave\n",
        "#import os\n",
        "#cwd = os.getcwd()\n",
        "#os.environ['PATH'] += \":\"+cwd"
      ]
    },
    {
      "cell_type": "code",
      "source": [
        "!wget https://git.gfz-potsdam.de/id2/geoperil/easyWave/-/raw/master/data/examples.tar.gz?inline=false\n",
        "!tar -xzf examples.tar.gz?inline=false\n",
        "!rm examples.tar.gz?inline=false"
      ],
      "metadata": {
        "colab": {
          "base_uri": "https://localhost:8080/"
        },
        "id": "EhnP82fhexa5",
        "outputId": "83921fe8-0861-4215-ffab-350b96bd55ca"
      },
      "execution_count": 4,
      "outputs": [
        {
          "output_type": "stream",
          "name": "stdout",
          "text": [
            "--2022-09-25 21:12:48--  https://git.gfz-potsdam.de/id2/geoperil/easyWave/-/raw/master/data/examples.tar.gz?inline=false\n",
            "Resolving git.gfz-potsdam.de (git.gfz-potsdam.de)... 139.17.228.166\n",
            "Connecting to git.gfz-potsdam.de (git.gfz-potsdam.de)|139.17.228.166|:443... connected.\n",
            "HTTP request sent, awaiting response... 200 OK\n",
            "Length: 48632405 (46M) [application/x-gzip]\n",
            "Saving to: ‘examples.tar.gz?inline=false’\n",
            "\n",
            "examples.tar.gz?inl 100%[===================>]  46.38M  9.12MB/s    in 5.7s    \n",
            "\n",
            "2022-09-25 21:12:55 (8.14 MB/s) - ‘examples.tar.gz?inline=false’ saved [48632405/48632405]\n",
            "\n"
          ]
        }
      ]
    },
    {
      "cell_type": "code",
      "source": [
        "!mkdir simulacion\n",
        "%cd simulacion\n",
        "!easywave -grid /content/examples/e2Asean.grd -source /content/examples/BengkuluSept2007.flt -time 120"
      ],
      "metadata": {
        "colab": {
          "base_uri": "https://localhost:8080/"
        },
        "id": "iXTFATXLfn3W",
        "outputId": "018e2c2c-06c3-4f7f-c4d7-7363e46eb1ed"
      },
      "execution_count": 5,
      "outputs": [
        {
          "output_type": "stream",
          "name": "stdout",
          "text": [
            "/content/simulacion\n",
            "\n",
            "easyWave ver.2013-04-11\n",
            "Model time = 00:00:00,   elapsed: 0 msec\n",
            "Model time = 00:10:00,   elapsed: 22 msec\n",
            "Model time = 00:20:00,   elapsed: 60 msec\n",
            "Model time = 00:30:00,   elapsed: 122 msec\n",
            "Model time = 00:40:00,   elapsed: 210 msec\n",
            "Model time = 00:50:00,   elapsed: 353 msec\n",
            "Model time = 01:00:00,   elapsed: 553 msec\n",
            "Model time = 01:10:00,   elapsed: 859 msec\n",
            "Model time = 01:20:00,   elapsed: 1231 msec\n",
            "Model time = 01:30:00,   elapsed: 1737 msec\n",
            "Model time = 01:40:00,   elapsed: 2413 msec\n",
            "Model time = 01:50:00,   elapsed: 3372 msec\n",
            "Model time = 02:00:00,   elapsed: 4580 msec\n"
          ]
        }
      ]
    }
  ]
}